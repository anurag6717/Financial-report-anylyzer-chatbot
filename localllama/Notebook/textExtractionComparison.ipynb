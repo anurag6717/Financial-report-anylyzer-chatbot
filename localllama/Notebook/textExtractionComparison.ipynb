{
 "cells": [
  {
   "cell_type": "code",
   "execution_count": 22,
   "metadata": {},
   "outputs": [],
   "source": [
    "from PyPDF2 import PdfReader\n",
    "from langchain.text_splitter import RecursiveCharacterTextSplitter\n",
    "from langchain_community.embeddings import HuggingFaceEmbeddings\n",
    "from langchain_community.vectorstores import FAISS"
   ]
  },
  {
   "cell_type": "code",
   "execution_count": 10,
   "metadata": {},
   "outputs": [],
   "source": [
    "path = \"Reports/tcs.pdf\""
   ]
  },
  {
   "cell_type": "code",
   "execution_count": 11,
   "metadata": {},
   "outputs": [],
   "source": [
    "import fitz"
   ]
  },
  {
   "cell_type": "code",
   "execution_count": 12,
   "metadata": {},
   "outputs": [],
   "source": [
    "from langchain_core.documents import Document"
   ]
  },
  {
   "cell_type": "code",
   "execution_count": 13,
   "metadata": {},
   "outputs": [],
   "source": [
    "from langchain.text_splitter import RecursiveCharacterTextSplitter"
   ]
  },
  {
   "cell_type": "code",
   "execution_count": 14,
   "metadata": {},
   "outputs": [],
   "source": [
    "text_splitter = RecursiveCharacterTextSplitter(\n",
    "    # Set a really small chunk size, just to show.\n",
    "    chunk_size=800,\n",
    "    chunk_overlap=200,\n",
    "    length_function=len,\n",
    ")"
   ]
  },
  {
   "cell_type": "code",
   "execution_count": 15,
   "metadata": {},
   "outputs": [],
   "source": [
    "chunks=[];"
   ]
  },
  {
   "cell_type": "code",
   "execution_count": 16,
   "metadata": {},
   "outputs": [],
   "source": [
    "doc = fitz.open(path);"
   ]
  },
  {
   "cell_type": "code",
   "execution_count": 17,
   "metadata": {},
   "outputs": [],
   "source": [
    "text = doc[1].get_text()"
   ]
  },
  {
   "cell_type": "code",
   "execution_count": 18,
   "metadata": {},
   "outputs": [],
   "source": [
    "text = text_splitter.split_text(text=text)"
   ]
  },
  {
   "cell_type": "code",
   "execution_count": 19,
   "metadata": {},
   "outputs": [],
   "source": [
    "pages=[]"
   ]
  },
  {
   "cell_type": "code",
   "execution_count": 20,
   "metadata": {},
   "outputs": [],
   "source": [
    "for page_no in range(doc.page_count):\n",
    "    text = doc[page_no].get_text()\n",
    "    text = text_splitter.split_text(text=text)\n",
    "    for chunk in text:\n",
    "        page = Document(page_content=chunk, metadata = {\"page_no\":page_no})\n",
    "        pages.append(page)    "
   ]
  },
  {
   "cell_type": "code",
   "execution_count": 21,
   "metadata": {},
   "outputs": [
    {
     "data": {
      "text/plain": [
       "1853"
      ]
     },
     "execution_count": 21,
     "metadata": {},
     "output_type": "execute_result"
    }
   ],
   "source": [
    "len(pages)"
   ]
  },
  {
   "cell_type": "code",
   "execution_count": 23,
   "metadata": {},
   "outputs": [
    {
     "name": "stderr",
     "output_type": "stream",
     "text": [
      "C:\\Users\\Mukesh\\AppData\\Roaming\\Python\\Python310\\site-packages\\tqdm\\auto.py:21: TqdmWarning: IProgress not found. Please update jupyter and ipywidgets. See https://ipywidgets.readthedocs.io/en/stable/user_install.html\n",
      "  from .autonotebook import tqdm as notebook_tqdm\n"
     ]
    }
   ],
   "source": [
    "embeddings = HuggingFaceEmbeddings(model_name='all-MiniLM-L6-v2')"
   ]
  },
  {
   "cell_type": "code",
   "execution_count": 41,
   "metadata": {},
   "outputs": [],
   "source": [
    "VectorStore = FAISS.from_documents(pages, embedding=embeddings)"
   ]
  },
  {
   "cell_type": "code",
   "execution_count": 108,
   "metadata": {},
   "outputs": [],
   "source": [
    "keyword = [\"About\",\"Financial Performance\", \"Letter of Ceo\",\"Management Discussion\"]"
   ]
  },
  {
   "cell_type": "code",
   "execution_count": 109,
   "metadata": {},
   "outputs": [],
   "source": [
    "output=[];"
   ]
  },
  {
   "cell_type": "code",
   "execution_count": 110,
   "metadata": {},
   "outputs": [
    {
     "name": "stdout",
     "output_type": "stream",
     "text": [
      "About\n",
      "Financial Performance\n",
      "Letter of Ceo\n",
      "Management Discussion\n"
     ]
    }
   ],
   "source": [
    "for keyword in keyword:\n",
    "    print(keyword)\n",
    "    doc = VectorStore.similarity_search(keyword, k=1)\n",
    "    output.append(doc[0].page_content)"
   ]
  },
  {
   "cell_type": "code",
   "execution_count": 111,
   "metadata": {},
   "outputs": [
    {
     "data": {
      "text/plain": [
       "['she discovered a strong desire to learn about the intricacies \\nof stock market, and later taught her classmates. But she \\nhad neither the funds to invest nor the conﬁdence to speak \\nabout it. She also lacked clarity on career goals or available job \\nprospects.\\nTCS Youth Employability Program brought a ray of sunshine \\nto her gloomy worldview. During the Covid years, Preeti not \\nonly learned math and reasoning skills, she also worked on her \\noverall personality. She learnt from her trainer, the importance \\nof public speaking, projecting conﬁdence in online interviews, \\nand active listening. In the TCS NQT exam later that year, she \\nscored 77.39% and got placed in December ’21.\\nShe launched a website and her ﬁrst YouTube channel \\n“Commerce Stocking” about stock market investment tips. In',\n",
       " 'Significant accounting policies used in the preparation of the financial statements are disclosed in the notes to the consolidated \\nfinancial statements.\\nThe following table gives an overview of the consolidated financial results of the company:\\n(` crore)\\nFY 2023\\nFY 2022 \\nAmount\\n% of Revenue\\n% Growth\\nAmount\\n% of Revenue\\nRevenue from operations\\n225,458\\n100.0\\n17.6\\n191,754\\n100.0\\nEarnings before interest, tax, depreciation and \\namortization (EBITDA) (before other income)\\n59,259\\n26.3\\n11.7\\n53,057\\n27.7\\nProfit Before Tax (PBT)\\n56,907\\n25.2\\n10.1\\n51,687\\n27.0\\nProfit after tax attributable to shareholders of the \\ncompany\\n42,147\\n18.7\\n10.0\\n38,327\\n20.0\\nEarnings per share (in `)\\n115.19\\n11.2\\n103.62\\nAnalysis of revenue growth',\n",
       " 'Letter from the\\nCEO\\nI am truly humbled by this opportunity to lead this remarkable \\norganization that I have been part of for 34 years. The culture, \\nvalues and ethos of TCS and the Tata group have been an \\ninspiration always. Your company has a very strong leadership \\nteam and a workforce that is highly motivated.  It is my privilege \\nto lead this talented team. \\nAs part of the transition, I interacted with a number of our \\ncustomers, leadership teams and employees. This has further \\nenriched my understanding of the depth of our customer \\nrelationships, customers ‘priorities and the opportunities \\nahead of us. I see a huge potential to create positive impact for \\nour clients, our employees and for the broader community of \\nstakeholders that we serve.\\nDear Shareholder,',\n",
       " 'Management Team\\nCorporate\\nSusheel Vasudevan\\nRelationship Incubation Group\\nKrishnan Ramanujam\\nEnterprise Growth Group\\nDebashis Ghosh\\nBusiness Transformation Group\\nSuresh Muthuswami\\nChairman – TCS North America\\nAmit Bajaj\\nNorth America\\nAmit Kapur\\nUK & Ireland\\nSapthagiri Chapalapalli\\nEurope\\nK Krithivasan\\nChief Executive Officer\\nand Managing Director\\nN G Subramaniam\\nChief Operating Officer\\nand Executive Director\\nSamir Seksaria\\nChief Financial Officer\\nMilind Lakkad\\nChief Human Resources Officer\\nRajashree R\\nChief Marketing Officer\\nK Ananth Krishnan\\nChief Technology Officer\\nMadhav Anchan\\nGeneral Counsel Legal\\nPradeep Manohar Gaitonde\\nCompany Secretary\\nBusiness Heads\\nManagement Team  |  5']"
      ]
     },
     "execution_count": 111,
     "metadata": {},
     "output_type": "execute_result"
    }
   ],
   "source": [
    "output"
   ]
  },
  {
   "cell_type": "code",
   "execution_count": 125,
   "metadata": {},
   "outputs": [],
   "source": [
    "context=f\"\"\"{output[0]}\\n\n",
    "{output[1]}\n",
    "\"\"\""
   ]
  },
  {
   "cell_type": "code",
   "execution_count": 139,
   "metadata": {},
   "outputs": [],
   "source": [
    "def intro(VectorStore):\n",
    "    keyword = [\"About\",\"Financial Performance\", \"Letter of Ceo\",\"Management Discussion\"]\n",
    "    output=[];\n",
    "    for keyword in keyword:\n",
    "        doc = VectorStore.similarity_search(keyword, k=1)\n",
    "        output.append(doc[0].page_content)\n",
    "    return f\"\"\"{output[0]}\\n\n",
    "{output[1]}\\n\n",
    "{output[2]}\\n\n",
    "{output[3]}\\n\n",
    "\"\"\""
   ]
  },
  {
   "cell_type": "code",
   "execution_count": 140,
   "metadata": {},
   "outputs": [
    {
     "name": "stdout",
     "output_type": "stream",
     "text": [
      "she discovered a strong desire to learn about the intricacies \n",
      "of stock market, and later taught her classmates. But she \n",
      "had neither the funds to invest nor the conﬁdence to speak \n",
      "about it. She also lacked clarity on career goals or available job \n",
      "prospects.\n",
      "TCS Youth Employability Program brought a ray of sunshine \n",
      "to her gloomy worldview. During the Covid years, Preeti not \n",
      "only learned math and reasoning skills, she also worked on her \n",
      "overall personality. She learnt from her trainer, the importance \n",
      "of public speaking, projecting conﬁdence in online interviews, \n",
      "and active listening. In the TCS NQT exam later that year, she \n",
      "scored 77.39% and got placed in December ’21.\n",
      "She launched a website and her ﬁrst YouTube channel \n",
      "“Commerce Stocking” about stock market investment tips. In\n",
      "\n",
      "Significant accounting policies used in the preparation of the financial statements are disclosed in the notes to the consolidated \n",
      "financial statements.\n",
      "The following table gives an overview of the consolidated financial results of the company:\n",
      "(` crore)\n",
      "FY 2023\n",
      "FY 2022 \n",
      "Amount\n",
      "% of Revenue\n",
      "% Growth\n",
      "Amount\n",
      "% of Revenue\n",
      "Revenue from operations\n",
      "225,458\n",
      "100.0\n",
      "17.6\n",
      "191,754\n",
      "100.0\n",
      "Earnings before interest, tax, depreciation and \n",
      "amortization (EBITDA) (before other income)\n",
      "59,259\n",
      "26.3\n",
      "11.7\n",
      "53,057\n",
      "27.7\n",
      "Profit Before Tax (PBT)\n",
      "56,907\n",
      "25.2\n",
      "10.1\n",
      "51,687\n",
      "27.0\n",
      "Profit after tax attributable to shareholders of the \n",
      "company\n",
      "42,147\n",
      "18.7\n",
      "10.0\n",
      "38,327\n",
      "20.0\n",
      "Earnings per share (in `)\n",
      "115.19\n",
      "11.2\n",
      "103.62\n",
      "Analysis of revenue growth\n",
      "\n",
      "Letter from the\n",
      "CEO\n",
      "I am truly humbled by this opportunity to lead this remarkable \n",
      "organization that I have been part of for 34 years. The culture, \n",
      "values and ethos of TCS and the Tata group have been an \n",
      "inspiration always. Your company has a very strong leadership \n",
      "team and a workforce that is highly motivated.  It is my privilege \n",
      "to lead this talented team. \n",
      "As part of the transition, I interacted with a number of our \n",
      "customers, leadership teams and employees. This has further \n",
      "enriched my understanding of the depth of our customer \n",
      "relationships, customers ‘priorities and the opportunities \n",
      "ahead of us. I see a huge potential to create positive impact for \n",
      "our clients, our employees and for the broader community of \n",
      "stakeholders that we serve.\n",
      "Dear Shareholder,\n",
      "\n",
      "Management Team\n",
      "Corporate\n",
      "Susheel Vasudevan\n",
      "Relationship Incubation Group\n",
      "Krishnan Ramanujam\n",
      "Enterprise Growth Group\n",
      "Debashis Ghosh\n",
      "Business Transformation Group\n",
      "Suresh Muthuswami\n",
      "Chairman – TCS North America\n",
      "Amit Bajaj\n",
      "North America\n",
      "Amit Kapur\n",
      "UK & Ireland\n",
      "Sapthagiri Chapalapalli\n",
      "Europe\n",
      "K Krithivasan\n",
      "Chief Executive Officer\n",
      "and Managing Director\n",
      "N G Subramaniam\n",
      "Chief Operating Officer\n",
      "and Executive Director\n",
      "Samir Seksaria\n",
      "Chief Financial Officer\n",
      "Milind Lakkad\n",
      "Chief Human Resources Officer\n",
      "Rajashree R\n",
      "Chief Marketing Officer\n",
      "K Ananth Krishnan\n",
      "Chief Technology Officer\n",
      "Madhav Anchan\n",
      "General Counsel Legal\n",
      "Pradeep Manohar Gaitonde\n",
      "Company Secretary\n",
      "Business Heads\n",
      "Management Team  |  5\n",
      "\n",
      "\n"
     ]
    }
   ],
   "source": [
    "print(intro(VectorStore))"
   ]
  },
  {
   "cell_type": "code",
   "execution_count": 91,
   "metadata": {},
   "outputs": [],
   "source": [
    "out = VectorStore.similarity_search(keyword, k=1)"
   ]
  },
  {
   "cell_type": "code",
   "execution_count": 93,
   "metadata": {},
   "outputs": [
    {
     "name": "stdout",
     "output_type": "stream",
     "text": [
      "Significant accounting policies used in the preparation of the financial statements are disclosed in the notes to the consolidated \n",
      "financial statements.\n",
      "The following table gives an overview of the consolidated financial results of the company:\n",
      "(` crore)\n",
      "FY 2023\n",
      "FY 2022 \n",
      "Amount\n",
      "% of Revenue\n",
      "% Growth\n",
      "Amount\n",
      "% of Revenue\n",
      "Revenue from operations\n",
      "225,458\n",
      "100.0\n",
      "17.6\n",
      "191,754\n",
      "100.0\n",
      "Earnings before interest, tax, depreciation and \n",
      "amortization (EBITDA) (before other income)\n",
      "59,259\n",
      "26.3\n",
      "11.7\n",
      "53,057\n",
      "27.7\n",
      "Profit Before Tax (PBT)\n",
      "56,907\n",
      "25.2\n",
      "10.1\n",
      "51,687\n",
      "27.0\n",
      "Profit after tax attributable to shareholders of the \n",
      "company\n",
      "42,147\n",
      "18.7\n",
      "10.0\n",
      "38,327\n",
      "20.0\n",
      "Earnings per share (in `)\n",
      "115.19\n",
      "11.2\n",
      "103.62\n",
      "Analysis of revenue growth\n"
     ]
    }
   ],
   "source": [
    "print(out[0].page_content)"
   ]
  },
  {
   "cell_type": "code",
   "execution_count": null,
   "metadata": {},
   "outputs": [],
   "source": []
  }
 ],
 "metadata": {
  "kernelspec": {
   "display_name": "Python 3",
   "language": "python",
   "name": "python3"
  },
  "language_info": {
   "codemirror_mode": {
    "name": "ipython",
    "version": 3
   },
   "file_extension": ".py",
   "mimetype": "text/x-python",
   "name": "python",
   "nbconvert_exporter": "python",
   "pygments_lexer": "ipython3",
   "version": "3.10.1"
  }
 },
 "nbformat": 4,
 "nbformat_minor": 2
}
