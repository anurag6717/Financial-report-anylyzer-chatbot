{
 "cells": [
  {
   "cell_type": "code",
   "execution_count": 18,
   "metadata": {},
   "outputs": [],
   "source": [
    "import pickle"
   ]
  },
  {
   "cell_type": "code",
   "execution_count": 19,
   "metadata": {},
   "outputs": [],
   "source": [
    "from langchain_community.embeddings import HuggingFaceEmbeddings"
   ]
  },
  {
   "cell_type": "code",
   "execution_count": 20,
   "metadata": {},
   "outputs": [],
   "source": [
    "from langchain_community.vectorstores import FAISS"
   ]
  },
  {
   "cell_type": "code",
   "execution_count": 21,
   "metadata": {},
   "outputs": [],
   "source": [
    "embeddings = HuggingFaceEmbeddings(model_name='all-MiniLM-L6-v2')"
   ]
  },
  {
   "cell_type": "code",
   "execution_count": 22,
   "metadata": {},
   "outputs": [],
   "source": [
    "with open(f\"vectorestore/7QxDbPTpUlJY27ZKC2PY.pkl\", \"rb\") as f:\n",
    "        VectorStore = pickle.load(f)"
   ]
  },
  {
   "cell_type": "code",
   "execution_count": 23,
   "metadata": {},
   "outputs": [],
   "source": [
    "query = \"Who is the Chief executive officer of this company\""
   ]
  },
  {
   "cell_type": "code",
   "execution_count": 25,
   "metadata": {},
   "outputs": [],
   "source": [
    "docs=VectorStore.similarity_search(query, k=4)"
   ]
  },
  {
   "cell_type": "code",
   "execution_count": 26,
   "metadata": {},
   "outputs": [
    {
     "data": {
      "text/plain": [
       "[Document(page_content='(w.e.f May 31,2021)\\nDinesh Kalani, Company Secretary\\nGlobal Chief Executive Officer (CEO):\\nHiral Chandrana, Global Chief Executive Officer\\nDirectors:\\nKetan Mehta, Non Executive Director \\nAtul Kanagat, Non Executive Director (till Jan \\n17,2023)\\nPriti Rao, Non Executive Director\\nS. Sandilya, Non Executive Director (till March \\n3, 2023)\\nRajeev Grover, Non Executive Director\\nSuresh Vaswani Non Executive Director (w.e.f \\nDec 11,2022)\\n* Non executive Director and Chairman w.e.f. April 01, 2023\\nStandalone Accounts\\n215\\nStatutory  \\nReports\\nFinancial\\nStatements\\nCorporate  \\nOverview\\nShareholder  \\nInformation', metadata={'page': 216}),\n",
       " Document(page_content='Company’s strategic initiatives.\\n \\n‑ \\nOversee and evaluate the overall performance of \\nthe Board and its Members.\\n \\n‑ \\nEnsure to place all relevant matters before the \\nBoard and encourage healthy participation by \\nall Directors to enable them to provide their \\nexpert guidance.\\n \\n‑ \\nMonitor the performance of the Executive \\nLeadership Team.\\n• \\nGlobal Chief Executive Officer is responsible for the \\nimplementation of corporate strategy, brand equity \\nplanning, external contacts and other management \\nmatters which are approved by the Board. He is also \\nresponsible for achieving the annual long‑ term business \\nplans. His role, inter alia, includes:\\n \\n‑ \\nCrafting of vision and business strategies of \\nthe Company.\\n \\n‑ \\nClear understanding and accomplishment of goals \\nset by the Board.\\n \\n‑', metadata={'page': 118}),\n",
       " Document(page_content='of the Act read with the Companies (Appointment \\nand Remuneration of Managerial Personnel) Rules, \\n2014 (as amended from time to time), the following \\npersons are acting as the Key Managerial Personnel \\n(KMP) of the Company:\\n \\n \\n1. \\nMr. Ashank Desai ‑ Chairman & Managing \\nDirector (upto March 31, 2023)\\n \\n \\n2. \\nMr. Arun Agarwal ‑ Global Chief \\nFinancial Officer\\n \\n \\n3. \\nMr. Dinesh Kalani ‑ Vice President – Group \\nCompany Secretary\\n \\n \\nPursuant to Rule 8(5)(iii) of the Companies \\n(Accounts) Rules, 2014, the following change \\noccurred in the composition of KMP during the year \\nunder review:\\n \\n \\nMr. Ashank Desai relinquished the role of Managing \\nDirector of the Company w.e.f. March 31, 2023 from \\nclose of business hours, except for this, there was \\nno other change in the composition of KMP.', metadata={'page': 84}),\n",
       " Document(page_content='required by the Executive Leadership Council of the Group.\\nGCEO and GCFO apprises the Board, at each of its Meeting \\nabout the overall performance of the Company with \\npresentations on business operations and financial affairs \\non a regular basis. The Members of Executive Leadership \\nCouncil are invited to the Board / Committee Meetings to \\nprovide necessary insights into the business performance of \\nthe Company and for discussing corporate strategies with the \\nBoard / Committee Members.\\nThe annual strategic and operating plans of the business are \\npresented to the Board. The Quarterly Financial Statements \\nand Annual Financial Statements are first presented to \\nthe Audit Committee and subsequently to the Board for \\ntheir approval. Also, the Risk Management & Governance', metadata={'page': 119})]"
      ]
     },
     "execution_count": 26,
     "metadata": {},
     "output_type": "execute_result"
    }
   ],
   "source": [
    "docs"
   ]
  },
  {
   "cell_type": "code",
   "execution_count": 9,
   "metadata": {},
   "outputs": [],
   "source": [
    "passages =[]\n",
    "for doc in docs:\n",
    "    passages.append({\"text\":doc.page_content, \"metadata\":{\"page\": doc.metadata[\"page\"]}})"
   ]
  },
  {
   "cell_type": "code",
   "execution_count": 10,
   "metadata": {},
   "outputs": [
    {
     "data": {
      "text/plain": [
       "[{'text': '(w.e.f May 31,2021)\\nDinesh Kalani, Company Secretary\\nGlobal Chief Executive Officer (CEO):\\nHiral Chandrana, Global Chief Executive Officer\\nDirectors:\\nKetan Mehta, Non Executive Director \\nAtul Kanagat, Non Executive Director (till Jan \\n17,2023)\\nPriti Rao, Non Executive Director\\nS. Sandilya, Non Executive Director (till March \\n3, 2023)\\nRajeev Grover, Non Executive Director\\nSuresh Vaswani Non Executive Director (w.e.f \\nDec 11,2022)\\n* Non executive Director and Chairman w.e.f. April 01, 2023\\nStandalone Accounts\\n215\\nStatutory  \\nReports\\nFinancial\\nStatements\\nCorporate  \\nOverview\\nShareholder  \\nInformation',\n",
       "  'metadata': {'page': 216}},\n",
       " {'text': 'Company’s strategic initiatives.\\n \\n‑ \\nOversee and evaluate the overall performance of \\nthe Board and its Members.\\n \\n‑ \\nEnsure to place all relevant matters before the \\nBoard and encourage healthy participation by \\nall Directors to enable them to provide their \\nexpert guidance.\\n \\n‑ \\nMonitor the performance of the Executive \\nLeadership Team.\\n• \\nGlobal Chief Executive Officer is responsible for the \\nimplementation of corporate strategy, brand equity \\nplanning, external contacts and other management \\nmatters which are approved by the Board. He is also \\nresponsible for achieving the annual long‑ term business \\nplans. His role, inter alia, includes:\\n \\n‑ \\nCrafting of vision and business strategies of \\nthe Company.\\n \\n‑ \\nClear understanding and accomplishment of goals \\nset by the Board.\\n \\n‑',\n",
       "  'metadata': {'page': 118}},\n",
       " {'text': 'of the Act read with the Companies (Appointment \\nand Remuneration of Managerial Personnel) Rules, \\n2014 (as amended from time to time), the following \\npersons are acting as the Key Managerial Personnel \\n(KMP) of the Company:\\n \\n \\n1. \\nMr. Ashank Desai ‑ Chairman & Managing \\nDirector (upto March 31, 2023)\\n \\n \\n2. \\nMr. Arun Agarwal ‑ Global Chief \\nFinancial Officer\\n \\n \\n3. \\nMr. Dinesh Kalani ‑ Vice President – Group \\nCompany Secretary\\n \\n \\nPursuant to Rule 8(5)(iii) of the Companies \\n(Accounts) Rules, 2014, the following change \\noccurred in the composition of KMP during the year \\nunder review:\\n \\n \\nMr. Ashank Desai relinquished the role of Managing \\nDirector of the Company w.e.f. March 31, 2023 from \\nclose of business hours, except for this, there was \\nno other change in the composition of KMP.',\n",
       "  'metadata': {'page': 84}},\n",
       " {'text': 'required by the Executive Leadership Council of the Group.\\nGCEO and GCFO apprises the Board, at each of its Meeting \\nabout the overall performance of the Company with \\npresentations on business operations and financial affairs \\non a regular basis. The Members of Executive Leadership \\nCouncil are invited to the Board / Committee Meetings to \\nprovide necessary insights into the business performance of \\nthe Company and for discussing corporate strategies with the \\nBoard / Committee Members.\\nThe annual strategic and operating plans of the business are \\npresented to the Board. The Quarterly Financial Statements \\nand Annual Financial Statements are first presented to \\nthe Audit Committee and subsequently to the Board for \\ntheir approval. Also, the Risk Management & Governance',\n",
       "  'metadata': {'page': 119}},\n",
       " {'text': 'Global Chief Executive Officer (CEO):\\nHiral Chandrana, Global Chief Executive Officer\\nDirectors:\\nKetan Mehta, Non Executive Director \\nAtul Kanagat, Non Executive Director (till January 17,2023)\\nPriti Rao, Non Executive Director \\nS. Sandilya, Non Executive Director (till March 3, 2023)\\nRajeev Grover, Non Executive Director\\nSuresh Vaswani Non Executive Director (w.e.f December 11,2022)\\nEnterprise where KMP has control:\\nMastek Foundation\\nNote: For list of subsidiaries refer note 43.\\n* Non executive Director and Chairman w.e.f. April 01, 2023\\nBalances outstanding are as follows:-\\nName of Related Party \\n As at\\n March 31, 2023\\n As at\\n March 31, 2022\\nCompensation of key management personnel and directors of the Company*\\n88\\n327',\n",
       "  'metadata': {'page': 290}},\n",
       " {'text': 'of the Board such as Audit Committee, Nomination \\nand Remuneration Committee, Corporate Social \\nResponsibility Committee, Stakeholders’ Relationship \\nCommittee and Risk Management & Governance \\nCommittee are focused on financial reporting, audit \\nand internal controls, appointment and remuneration \\nof Directors, Key Managerial Personnel and Senior \\nManagerial Personnel, identifying, implementing \\nand monitoring of ESG and CSR activities, the Risk \\nmanagement, operational, legal and compliances \\nincluding sustainability framework.\\n2. \\nExecutive Management – by the Corporate Management \\nteam comprising of the Managing Director, Chief \\nExecutive Officer and Executive Leadership consisting \\nof the functional heads of the Company. They meet at',\n",
       "  'metadata': {'page': 112}},\n",
       " {'text': 'May 1, 2023.\\nExecutive Leadership Council Members also attend this \\nCommittee meeting as permanent invitees and Mr. Dinesh \\nKalani – Vice President – Group Company Secretary acts as \\nSecretary to the Committee.\\nCorporate Governance Report\\n127\\nShareholder  \\nInformation\\nStatutory  \\nReports\\nFinancial\\nStatements\\nCorporate  \\nOverview',\n",
       "  'metadata': {'page': 128}},\n",
       " {'text': 'The Company adheres to the provisions of the Act read with \\nthe Rules issued thereunder, Secretarial Standards and the \\nSEBI Listing Regulations with respect to convening and holding \\nthe Meetings of the Board of Directors, its Committees and \\nthe General Meetings of the Members of the Company.\\nInvitees and Proceedings\\nApart from Board Members and the Vice President – Group \\nCompany Secretary, the Board and Committee Meetings \\nare generally also attended by the Global Chief Executive \\nOfficer (GCEO), Global Chief Financial Officer (GCFO), Global \\nChief Legal and Compliance Officer (GC-LCO) and wherever \\nrequired by the Executive Leadership Council of the Group.\\nGCEO and GCFO apprises the Board, at each of its Meeting \\nabout the overall performance of the Company with',\n",
       "  'metadata': {'page': 119}},\n",
       " {'text': 'All Directors are familiarised at regular intervals on various \\ntopics specifically relating to: \\na) \\nnature of the industry in which the company operates;\\nb) \\nthe business model of the company;\\nc) \\nabout their roles, rights, and responsibilities in \\nthe company; \\nd) \\nany other relevant information, through various \\ninitiatives; and\\ne) \\nRegulatory Framework within which the Company and \\nits other subsidiaries operate.\\nEvery new Director of the Board needs to attend a Review \\n/ Orientation Program organised by the Company. Global \\nChief Executive Officer, Global Chief Financial Officer, and \\nSenior Managerial Personnel & Leadership Team, provides \\nan overview of the Strategy, Operations and Functions of \\nthe Company by making presentations. An opportunity is',\n",
       "  'metadata': {'page': 117}},\n",
       " {'text': 'Management Team\\nDelivering Excellence \\nwith Expertise \\nHiral Chandrana \\nChief Executive Officer,  \\nMastek Group \\nArun Agarwal\\nChief Financial Officer, \\nMastek Group\\nAbhishek Singh\\nPresident UKI & Europe\\nPrajakta Talvelkar\\nChief Marketing Officer\\nPrameela Kalive\\nChief Operating Officer\\n56\\nMastek Limited\\nAnnual Report 2022-23',\n",
       "  'metadata': {'page': 57}},\n",
       " {'text': 'Step-down Subsidiary\\nUnited States of America\\nEvosys Consultancy Services (Malaysia) Sdn Bhd \\nStep-down Subsidiary\\nMalaysia\\nEvolutionary Systems Qatar WLL \\nStep-down Subsidiary\\nQatar\\nMastek Systems Pty Ltd (Formerly known as Evolutionary \\nSystems Pty Ltd)\\nStep-down Subsidiary\\nAustralia\\nEvolutionary Systems BV \\nStep-down Subsidiary\\nNetherlands\\nEvolutionary Systems (Singapore) Pte. Ltd. \\nStep-down Subsidiary\\nSingapore\\nKey Management Personnel (KMP):\\nAshank Desai, Vice Chairman and Managing \\nDirector (till March 31,2023)*\\nArun Agarwal, Global Chief Financial Officer \\n(w.e.f May 31,2021)\\nDinesh Kalani, Company Secretary\\nGlobal Chief Executive Officer (CEO):\\nHiral Chandrana, Global Chief Executive Officer\\nDirectors:\\nKetan Mehta, Non Executive Director',\n",
       "  'metadata': {'page': 216}},\n",
       " {'text': 'Corporate Information\\nBoard of Directors\\nAshank Desai\\nChairman (Non - Executive) (w.e.f. April 1, 2023) \\nVice - Chairman & Managing Director \\n(Upto March 21, 2023)\\nChairman & Managing Director (Upto March 31, 2023)\\nKetan Mehta\\nNon - Executive and Non - Independent Director\\nRajeev Kumar Grover\\nNon - Executive and Independent Director\\nSuresh Vaswani\\nNon - Executive and Independent Director\\n(Appointed w.e.f. December 11, 2022)\\nUmang Nahata\\nNon-Executive and Non-Independent Director\\nNew Shareholders’ Nominee Director\\n(Appointed w.e.f. July 19, 2023)\\nAtul Kanagat\\nNon - Executive and Independent Director\\n(Resigned w.e.f. January 17, 2023)\\nS. Sandilya\\nNon-Executive and Independent Director\\n(Resigned w.e.f. March 3, 2023)\\nPriti Rao\\nNon - Executive and Independent Director',\n",
       "  'metadata': {'page': 333}},\n",
       " {'text': 'engagement through their services.\\nAshank Desai\\nChairman \\n8\\nDetails of the highest authority \\nresponsible for implementation and \\noversight of the Business Responsibility \\npolicy (ies)\\nThe following people of highest authority shall be responsible for the implementation \\nand oversight of the Business Responsibility policy:\\nSr. \\nNo.\\nName of person\\nDesignation\\nDIN / Employee Id \\n1\\nMr. Ashank Desai\\nChairman \\nDIN‑00017767\\n2\\nMr. Hiral Chandarana\\nGroup CEO\\nEmployee Id ‑ 83030\\n9\\nDoes the entity have a specified \\nCommittee of the Board/ Director \\nresponsible for decision making on \\nsustainability related issues? If yes, \\nprovide details\\nYes; Board, Audit Committee, Nomination and Remuneration Committee, CSR \\nCommittee and Risk Management & Governance Committee take decisions related to',\n",
       "  'metadata': {'page': 152}},\n",
       " {'text': 'Non‑Executive Director \\n(Independent)\\n01.04.2019\\nUnion Bank of India – Shareholder \\nDirector\\n2\\n1\\nMr. Rajeev Kumar \\nGrover (DIN:00058165)\\nNon‑Executive Director \\n(Independent)\\n28.01.2020\\n‑\\n1\\n1\\n#Mr. Suresh Vaswani\\n(DIN: 02176528)\\nNon‑Executive Director \\n(Independent)\\n11.12.2022\\nVodafone Idea Limited – \\nIndependent Director\\n3\\n0\\n*Mr. Ashank Desai relinquished the role of Managing Director with effect from March 31, 2023, and has been appointed as Chairman (Non ‑ \\nExecutive) with effect from April 1, 2023.\\n$Ms. Priti Rao, Non‑Executive & Independent Director submitted resignation from the Directorship of the Company to be effective from May 1, \\n2023.\\n#Mr. Suresh Vaswani was appointed as an Additional Director of the Company w.e.f. December 11, 2022, which was approved by the Members of the',\n",
       "  'metadata': {'page': 116}},\n",
       " {'text': 'commitments. By embedding ESG considerations into \\nour governance framework, we ensure sustainability and \\nresponsible business practices are at the forefront of our \\ndecision-making processes.\\nStrategic Supervision\\n• By the Board of Directors \\ncomprising the Executive, \\nNon-executive and \\nIndependent Directors \\n• Conducts overall \\nstrategic supervision and \\ncontrol by setting goals \\nand targets, policies, \\ngovernance standards, \\nreporting mechanism \\nand accountability and \\ndecision-making process to \\nbe followed \\nExecutive Management \\n• By the corporate \\nmanagement team \\ncomprising the Managing \\nDirector and Executive \\nCommittee team consisting \\nof the functional heads \\nof Mastek\\n• Management reviews \\nand monitors monthly \\nperformances addresses \\nchallenges faced by the',\n",
       "  'metadata': {'page': 53}},\n",
       " {'text': 'Management teams promptly for action. The Vice President \\n– Group Company Secretary facilitates convening of meetings \\nand attends Board, Committee and General Meetings of \\nthe Company and maintains the Minutes of these meetings. \\nMr. Dinesh Kalani is the Vice President ‑ Group Company \\nSecretary of the Company.\\nCommittees of the Board – as on March 31, 2023\\nThe Board Committees are set up by the Board and \\ngoverned by its terms of reference which exhibit the scope, \\ncomposition, functioning and reporting parameters. The \\nBoard has constituted various Committees to deal with \\nspecific business areas. These Committees play an important \\nrole in the governance process. All these Committees \\nhave been formed with proper Board authority defining',\n",
       "  'metadata': {'page': 120}},\n",
       " {'text': 'For Walker Chandiok & Co LLP\\nFor and on behalf of the Board of Directors of Mastek Limited\\nChartered Accountants\\nFirm Registration No.: 001076N/N500013\\nAshank Desai\\nRajeev Grover\\nChairman\\nDirector\\nAdi P. Sethna\\nDIN: 00017767\\nDIN: 00058165\\nPartner\\nMembership No.: 108840\\nArun Agarwal\\nDinesh Kalani\\nGlobal Chief Financial officer\\nVice President - Group Company Secretary\\nPlace: Mumbai\\nPlace: Mumbai\\nDate: April 19, 2023\\nDate: April 19, 2023\\n181\\nShareholder  \\nInformation\\nStatutory  \\nReports\\nFinancial\\nStatements\\nCorporate  \\nOverview',\n",
       "  'metadata': {'page': 182}},\n",
       " {'text': 'team comprising of the Managing Director, Chief \\nExecutive Officer and Executive Leadership consisting \\nof the functional heads of the Company. They meet at \\nregular intervals, wherein all important business issues \\nare discussed and decisions are taken. Management \\nCorporate Governance Report\\nCorporate Governance Report\\n111\\nShareholder  \\nInformation\\nStatutory  \\nReports\\nFinancial\\nStatements\\nCorporate  \\nOverview',\n",
       "  'metadata': {'page': 112}},\n",
       " {'text': 'development, corporate governance, finance & taxation, \\nsecurity-IT domain expertise and risk management, amongst \\nothers. The Company’s Non-Executive Directors (including \\nIndependent Directors) have been shaping and steering the \\nlong-term strategy and make invaluable contributions towards \\nMastek Group level strategy, monitoring or risk management \\nand Compliances.\\nConsidering the Company’s operations, its expanding \\nactivities and valuable contribution made by Non-Executive \\nDirectors (including Independent Directors) towards overall \\nengagement with the Company on various policies, strategic \\nand governance related issues, it is proposed to pay Annual \\nCommission to them. In view of the above, the Nomination \\nand Remuneration Committee and the Board of Directors',\n",
       "  'metadata': {'page': 312}},\n",
       " {'text': 'As on March 31, 2023, the Board composition and category of the Board of Directors were as follows:\\nSr. \\nNo.\\nName of the Directors\\nPromoter / Non–Promoters\\nCategory\\n1.\\n*Mr. Ashank Desai\\n Promoter\\nChairman & Managing Director\\n2.\\nMr. Ketan Mehta\\nNon‑Executive & Non‑Independent Director\\n3.\\n$Ms. Priti Rao\\n Non – Promoter\\nNon‑Executive & Independent Director\\n4.\\nMr. Rajeev Kumar Grover\\n5.\\n#Mr. Suresh Vaswani\\n*Mr. Ashank Desai relinquished the position of Managing Director with effect from March 31, 2023, and has been appointed as Chairman (Non ‑ \\nExecutive) with effect from April 1, 2023.\\n$Ms. Priti Rao, Non‑Executive & Independent Director submitted resignation from the Directorship of the Company to be effective from May 1, 2023.',\n",
       "  'metadata': {'page': 114}}]"
      ]
     },
     "execution_count": 10,
     "metadata": {},
     "output_type": "execute_result"
    }
   ],
   "source": [
    "passages"
   ]
  },
  {
   "cell_type": "code",
   "execution_count": null,
   "metadata": {},
   "outputs": [],
   "source": [
    "from flashrank import Ranker, RerankRequest\n",
    "\n",
    "# Nano (~4MB), blazing fast model & competitive performance (ranking precision).\n",
    "ranker = Ranker()"
   ]
  },
  {
   "cell_type": "code",
   "execution_count": 109,
   "metadata": {},
   "outputs": [],
   "source": [
    "rerankrequest = RerankRequest(query=query, passages=passages)"
   ]
  },
  {
   "cell_type": "code",
   "execution_count": 110,
   "metadata": {},
   "outputs": [],
   "source": [
    "results = ranker.rerank(rerankrequest)"
   ]
  },
  {
   "cell_type": "code",
   "execution_count": 111,
   "metadata": {},
   "outputs": [
    {
     "name": "stdout",
     "output_type": "stream",
     "text": [
      "{'page': 113}\n",
      "{'page': 291}\n",
      "{'page': 217}\n",
      "{'page': 119}\n",
      "{'page': 120}\n",
      "{'page': 118}\n",
      "{'page': 129}\n",
      "{'page': 118}\n",
      "{'page': 85}\n",
      "{'page': 58}\n",
      "{'page': 217}\n",
      "{'page': 134}\n",
      "{'page': 113}\n",
      "{'page': 334}\n",
      "{'page': 179}\n",
      "{'page': 54}\n",
      "{'page': 121}\n",
      "{'page': 120}\n",
      "{'page': 153}\n",
      "{'page': 119}\n"
     ]
    }
   ],
   "source": [
    "for res in results:\n",
    "    print(res[\"metadata\"])"
   ]
  },
  {
   "cell_type": "code",
   "execution_count": 112,
   "metadata": {},
   "outputs": [
    {
     "name": "stdout",
     "output_type": "stream",
     "text": [
      "{'page': 217}\n",
      "{'page': 119}\n",
      "{'page': 85}\n",
      "{'page': 129}\n",
      "{'page': 118}\n",
      "{'page': 217}\n",
      "{'page': 120}\n",
      "{'page': 113}\n",
      "{'page': 291}\n",
      "{'page': 120}\n",
      "{'page': 118}\n",
      "{'page': 334}\n",
      "{'page': 58}\n",
      "{'page': 113}\n",
      "{'page': 134}\n",
      "{'page': 121}\n",
      "{'page': 54}\n",
      "{'page': 153}\n",
      "{'page': 179}\n",
      "{'page': 119}\n"
     ]
    }
   ],
   "source": [
    "for doc in docs:\n",
    "    print(doc.metadata)"
   ]
  },
  {
   "cell_type": "code",
   "execution_count": 18,
   "metadata": {},
   "outputs": [],
   "source": [
    "from sentence_transformers import CrossEncoder\n",
    "\n",
    "reranker_model = CrossEncoder(model_name=\"bge-reranker-base\", max_length=512)\n",
    "\n",
    "def rerank_docs(query, retrieved_docs):\n",
    "    query_and_docs = [(query, r.page_content) for r in retrieved_docs]\n",
    "    scores = reranker_model.predict(query_and_docs)\n",
    "    return sorted(list(zip(retrieved_docs, scores)), key=lambda x: x[1], reverse=True)"
   ]
  },
  {
   "cell_type": "code",
   "execution_count": 19,
   "metadata": {},
   "outputs": [
    {
     "data": {
      "text/plain": [
       "[(Document(page_content='Directors’ Report   |  72 Integrated Annual Report 2022-23 Directors’ Report To the Members, The Directors present this Integrated Annual Report of   Tata Consultancy Services Limited (the Company or TCS) along  with the audited financial statements for the financial year  ended March 31, 2023. The consolidated performance of the Company and its  subsidiaries has been referred to wherever required. 1.  Financial results (` crore) Standalone Consolidated Financial Year  2022-23 (FY 2023) Financial Year  2021-22 (FY 2022) Financial Year  2022-23 (FY 2023) Financial Year  2021-22 (FY 2022) Revenue from operations 1,90,354 1,60,341 2,25,458 1,91,754 Other income 5,328 7,486 3,449 4,018 Total income 1,95,682 1,67,827 2,28,907 1,95,772 Expenses Operating expenditure 1,39,357 1,14,096 1,66,199', metadata={'page': 72}),\n",
       "  0.8960131),\n",
       " (Document(page_content='as amended from time to time.  Significant accounting policies used in the preparation of the financial statements are disclosed in the notes to the consolidated  financial statements. The following table gives an overview of the consolidated financial results of the company: (` crore) FY 2023 FY 2022  Amount % of Revenue % Growth Amount % of Revenue Revenue from operations 225,458 100.0 17.6 191,754 100.0 Earnings before interest, tax, depreciation and  amortization (EBITDA) (before other income) 59,259 26.3 11.7 53,057 27.7 Profit Before Tax (PBT) 56,907 25.2 10.1 51,687 27.0 Profit after tax attributable to shareholders of the  company 42,147 18.7 10.0 38,327 20.0 Earnings per share (in `) 115.19 11.2 103.62 Analysis of revenue growth On a reported basis, TCS’ revenue grew 17.6% in FY', metadata={'page': 92}),\n",
       "  0.85878146),\n",
       " (Document(page_content='attributable to shareholders of the  company 42,147 18.7 10.0 38,327 20.0 Earnings per share (in `) 115.19 11.2 103.62 Analysis of revenue growth On a reported basis, TCS’ revenue grew 17.6% in FY 2023, compared to 16.8% in the prior year. The growth was driven by accelerated  spending on digital transformation initiatives, cloud adoption and increased outsourcing, aided by currency benefit.  Average currency exchange rates during FY 2023 for the three major currencies are given below: Currency Weightage (%) FY 2023   ` FY 2022  ` % Change YoY USD 56.0 80.74 74.61 8.2 GBP 12.8 96.98 101.50 (4.5) EUR 10.8 84.01 86.36 (2.7) Movements in currency exchange rates through the year resulted in a positive impact of 3.9% on the reported revenue. The constant  currency revenue growth for the year,', metadata={'page': 92}),\n",
       "  0.8074612),\n",
       " (Document(page_content='is operating in. Monetary value of transactions subject to a maximum of  ₹15,000 crore through contracts/arrangements for a duration upto twelve  years 5. Particulars of the proposed transaction Same as Sr. No. 3 6. Tenure of the transaction Contractual commitments expected for a tenure of 12 years 7. Value of the proposed transaction  ₹15,000 crore  8. Percentage of TCS’s annual consolidated  turnover, for the immediately preceding  financial year, that is represented by the  value of the proposed transaction. Value of the proposed transaction represents 6.6 percent of the consolidated  turnover of the Company for FY 2023.   9. Justification of the proposed transaction The domain expertise and competencies available within the group and the  collaboration with the company will help in', metadata={'page': 50}),\n",
       "  0.781863),\n",
       " (Document(page_content='2,211 Total 48,090 54,331 1,734 1,722 49,824 56,053 Total invested funds include ₹2,080 crore and ₹1,722 crore for FY 2023 and FY 2022, respectively, pertaining to trusts and  TCS Foundation held for specified purposes. Ratio Analysis – 10 years  Ind As Indian GAAP Unit FY  2023  FY  2022  FY  2021*  FY  2021  FY  2020  FY  2019  FY  2018  FY  2017  FY  2016  FY  2015#  FY  2015  FY  2014 Ratios - Financial Performance Employee Cost / Total Revenue %  56.6  56.1  55.9  55.9  54.8  53.4  53.9  52.2  50.9  51.0  53.8  49.5 Other Operating Cost / Total  Revenue %  17.1  16.2  15.7  16.5  18.4  19.6  19.7  20.4  20.9  20.4  20.3  19.8 Total cost (excluding interest &  depreciation) / Total Revenue %  73.7  72.3  71.6  72.4  73.2  73.0  73.6  72.6  71.8  71.4  74.1  69.3 EBITDA (Before Other', metadata={'page': 107}),\n",
       "  0.38956964),\n",
       " (Document(page_content='threshold of 2.2 percent of the consolidated  turnover of the Company across all related parties per annum 5. Particulars of the proposed transaction Same as Sr. No. 3 6. Tenure of the transaction Contracts/arrangements with a duration upto 5 years 7. Value of the proposed transaction  1.1 percent of the consolidated turnover of the Company per annum with a  single related party subject to a cumulative threshold of 2.2 percent of the  consolidated turnover of the Company per annum across all related parties  in this category 8. Percentage of TCS’s annual consolidated  turnover, for the immediately preceding  financial year, that is represented by the  value of the proposed transaction 1.1 percent of the consolidated turnover of the Company per annum with  single related party  2.2 percent', metadata={'page': 49}),\n",
       "  0.26134205),\n",
       " (Document(page_content='of the consolidated turnover of the Company per  annum through contracts/arrangements which are entered for a duration  upto 5 years and a cumulative threshold of 4.4 percent of the consolidated  turnover of the Company across all related parties per annum 5. Particulars of the proposed transaction Same as Sr. No. 3 6. Tenure of the transaction Contracts/arrangements with a duration upto 5 years 7. Value of the proposed transaction  1.1 percent of the consolidated turnover of the Company per annum with a  single related party subject to a cumulative threshold of 4.4 percent of the  consolidated turnover of the Company per annum across all related parties  in this category 8. Percentage of TCS’s annual consolidated  turnover, for the immediately preceding  financial year, that is', metadata={'page': 47}),\n",
       "  0.24921018),\n",
       " (Document(page_content='during the year (net) 6  (55) (20) (26) 74,172  76,807    *Represents value less than `0.50 crore. 10) Revenue recognition   The Company earns revenue primarily from providing IT services, consulting and business solutions. The Company offers a  consulting-led, cognitive powered, integrated portfolio of IT, business and engineering services and solutions.   Revenue is recognised upon transfer of control of promised products or services to customers in an amount that reflects the  consideration which the Company expects to receive in exchange for those products or services.   •  Revenue from time and material and job contracts is recognised on output basis measured by units delivered, efforts  expended, number of transactions processed, etc.   •  Revenue related to fixed price maintenance', metadata={'page': 294}),\n",
       "  0.060734004),\n",
       " (Document(page_content='the year (net) 659  52   2,848   2,189  90,058 88,773  12) Revenue recognition   The Group earns revenue primarily from providing IT services, consulting and business solutions. The Group offers a consulting- led, cognitive powered, integrated portfolio of IT, business and engineering services and solutions.   Revenue is recognised upon transfer of control of promised products or services to customers in an amount that reflects the  consideration which the Group expects to receive in exchange for those products or services.   •  Revenue from time and material and job contracts is recognised on output basis measured by units delivered, efforts  expended, number of transactions processed, etc.   •  Revenue related to fixed price maintenance and support services contracts where the Group is', metadata={'page': 224}),\n",
       "  0.055502072),\n",
       " (Document(page_content='for 90% of the turnover):     TCS provides IT services, consulting and business solutions to many of the world’s largest businesses in their transformational  journeys. Segment revenues, year on year growth, a brief commentary and segment margins are provided in the Financial  Performance Overview section of Management Discussion and Analysis, which is a part of this Integrated Annual Report.   15. Products/Services sold by the entity (accounting for 90% of the entity’s Turnover):     Application Development and Maintenance, Consulting and Service Integration, Digital Transformation Services, Cognitive  Business Operations and Products and Platforms.      Some of the services broadly map to NIC classes 6201, 6202, 6209 and 6311. III. Operations6   16. Number of locations where plants', metadata={'page': 146}),\n",
       "  0.043280225)]"
      ]
     },
     "execution_count": 19,
     "metadata": {},
     "output_type": "execute_result"
    }
   ],
   "source": [
    "rerank_docs(query, docs)"
   ]
  },
  {
   "cell_type": "code",
   "execution_count": 8,
   "metadata": {},
   "outputs": [],
   "source": [
    "import fitz\n",
    "import re"
   ]
  },
  {
   "cell_type": "code",
   "execution_count": 9,
   "metadata": {},
   "outputs": [],
   "source": [
    "from langchain.text_splitter import RecursiveCharacterTextSplitter\n",
    "from langchain_core.documents import Document"
   ]
  },
  {
   "cell_type": "code",
   "execution_count": 27,
   "metadata": {},
   "outputs": [],
   "source": [
    "text_splitter = RecursiveCharacterTextSplitter(\n",
    "    # Set a really small chunk size, just to show.\n",
    "    chunk_size=800,\n",
    "    chunk_overlap=200,\n",
    "    length_function=len,\n",
    ")"
   ]
  },
  {
   "cell_type": "code",
   "execution_count": 28,
   "metadata": {},
   "outputs": [],
   "source": [
    "doc = fitz.open(\"Reports/mastek22-23.pdf\")\n",
    "pages=[]\n",
    "for page_no in range(doc.page_count):\n",
    "        text = doc[page_no].get_text()\n",
    "        text = re.sub(r\"\\n\", \" \", text)\n",
    "        text = text_splitter.split_text(text=text)\n",
    "        for chunk in text:\n",
    "            page = Document(page_content=chunk, metadata = {\"page\":page_no+1})\n",
    "            pages.append(page)  "
   ]
  },
  {
   "cell_type": "code",
   "execution_count": 29,
   "metadata": {},
   "outputs": [],
   "source": [
    "testStore = FAISS.from_documents(pages, embedding=embeddings)"
   ]
  },
  {
   "cell_type": "code",
   "execution_count": 30,
   "metadata": {},
   "outputs": [],
   "source": [
    "doc = testStore.similarity_search(query)"
   ]
  },
  {
   "cell_type": "code",
   "execution_count": 31,
   "metadata": {},
   "outputs": [
    {
     "data": {
      "text/plain": [
       "[Document(page_content='Chief Executive Officer (CEO): Hiral Chandrana, Global Chief Executive Officer Directors: Ketan Mehta, Non Executive Director  Atul Kanagat, Non Executive Director (till Jan  17,2023) Priti Rao, Non Executive Director S. Sandilya, Non Executive Director (till March  3, 2023) Rajeev Grover, Non Executive Director Suresh Vaswani Non Executive Director (w.e.f  Dec 11,2022) * Non executive Director and Chairman w.e.f. April 01, 2023 Standalone Accounts 215 Statutory   Reports Financial Statements Corporate   Overview Shareholder   Information', metadata={'page': 217}),\n",
       " Document(page_content='with  Company’s strategic initiatives.   ‑  Oversee and evaluate the overall performance of  the Board and its Members.   ‑  Ensure to place all relevant matters before the  Board and encourage healthy participation by  all Directors to enable them to provide their  expert guidance.   ‑  Monitor the performance of the Executive  Leadership Team. •  Global Chief Executive Officer is responsible for the  implementation of corporate strategy, brand equity  planning, external contacts and other management  matters which are approved by the Board. He is also  responsible for achieving the annual long‑ term business  plans. His role, inter alia, includes:   ‑  Crafting of vision and business strategies of  the Company.   ‑  Clear understanding and accomplishment of goals  set by the Board.   ‑', metadata={'page': 119}),\n",
       " Document(page_content='to the provisions of Sections 2(51) and 203  of the Act read with the Companies (Appointment  and Remuneration of Managerial Personnel) Rules,  2014 (as amended from time to time), the following  persons are acting as the Key Managerial Personnel  (KMP) of the Company:     1.  Mr. Ashank Desai ‑ Chairman & Managing  Director (upto March 31, 2023)     2.  Mr. Arun Agarwal ‑ Global Chief  Financial Officer     3.  Mr. Dinesh Kalani ‑ Vice President – Group  Company Secretary     Pursuant to Rule 8(5)(iii) of the Companies  (Accounts) Rules, 2014, the following change  occurred in the composition of KMP during the year  under review:     Mr. Ashank Desai relinquished the role of Managing  Director of the Company w.e.f. March 31, 2023 from  close of business hours, except for this, there was', metadata={'page': 85}),\n",
       " Document(page_content='from the Directorship of the Company to be effective from  May 1, 2023. Executive Leadership Council Members also attend this  Committee meeting as permanent invitees and Mr. Dinesh  Kalani – Vice President – Group Company Secretary acts as  Secretary to the Committee. Corporate Governance Report 127 Shareholder   Information Statutory   Reports Financial Statements Corporate   Overview', metadata={'page': 129})]"
      ]
     },
     "execution_count": 31,
     "metadata": {},
     "output_type": "execute_result"
    }
   ],
   "source": [
    "doc"
   ]
  },
  {
   "cell_type": "code",
   "execution_count": null,
   "metadata": {},
   "outputs": [],
   "source": [
    "[Document(page_content='(w.e.f May 31,2021)\\nDinesh Kalani, Company Secretary\\nGlobal Chief Executive Officer (CEO):\\nHiral Chandrana, Global Chief Executive Officer\\nDirectors:\\nKetan Mehta, Non Executive Director \\nAtul Kanagat, Non Executive Director (till Jan \\n17,2023)\\nPriti Rao, Non Executive Director\\nS. Sandilya, Non Executive Director (till March \\n3, 2023)\\nRajeev Grover, Non Executive Director\\nSuresh Vaswani Non Executive Director (w.e.f \\nDec 11,2022)\\n* Non executive Director and Chairman w.e.f. April 01, 2023\\nStandalone Accounts\\n215\\nStatutory  \\nReports\\nFinancial\\nStatements\\nCorporate  \\nOverview\\nShareholder  \\nInformation', metadata={'page': 216}),\n",
    " Document(page_content='Company’s strategic initiatives.\\n \\n‑ \\nOversee and evaluate the overall performance of \\nthe Board and its Members.\\n \\n‑ \\nEnsure to place all relevant matters before the \\nBoard and encourage healthy participation by \\nall Directors to enable them to provide their \\nexpert guidance.\\n \\n‑ \\nMonitor the performance of the Executive \\nLeadership Team.\\n• \\nGlobal Chief Executive Officer is responsible for the \\nimplementation of corporate strategy, brand equity \\nplanning, external contacts and other management \\nmatters which are approved by the Board. He is also \\nresponsible for achieving the annual long‑ term business \\nplans. His role, inter alia, includes:\\n \\n‑ \\nCrafting of vision and business strategies of \\nthe Company.\\n \\n‑ \\nClear understanding and accomplishment of goals \\nset by the Board.\\n \\n‑', metadata={'page': 118}),\n",
    " Document(page_content='of the Act read with the Companies (Appointment \\nand Remuneration of Managerial Personnel) Rules, \\n2014 (as amended from time to time), the following \\npersons are acting as the Key Managerial Personnel \\n(KMP) of the Company:\\n \\n \\n1. \\nMr. Ashank Desai ‑ Chairman & Managing \\nDirector (upto March 31, 2023)\\n \\n \\n2. \\nMr. Arun Agarwal ‑ Global Chief \\nFinancial Officer\\n \\n \\n3. \\nMr. Dinesh Kalani ‑ Vice President – Group \\nCompany Secretary\\n \\n \\nPursuant to Rule 8(5)(iii) of the Companies \\n(Accounts) Rules, 2014, the following change \\noccurred in the composition of KMP during the year \\nunder review:\\n \\n \\nMr. Ashank Desai relinquished the role of Managing \\nDirector of the Company w.e.f. March 31, 2023 from \\nclose of business hours, except for this, there was \\nno other change in the composition of KMP.', metadata={'page': 84}),\n",
    " Document(page_content='required by the Executive Leadership Council of the Group.\\nGCEO and GCFO apprises the Board, at each of its Meeting \\nabout the overall performance of the Company with \\npresentations on business operations and financial affairs \\non a regular basis. The Members of Executive Leadership \\nCouncil are invited to the Board / Committee Meetings to \\nprovide necessary insights into the business performance of \\nthe Company and for discussing corporate strategies with the \\nBoard / Committee Members.\\nThe annual strategic and operating plans of the business are \\npresented to the Board. The Quarterly Financial Statements \\nand Annual Financial Statements are first presented to \\nthe Audit Committee and subsequently to the Board for \\ntheir approval. Also, the Risk Management & Governance', metadata={'page': 119}),\n",
    " Document(page_content='Global Chief Executive Officer (CEO):\\nHiral Chandrana, Global Chief Executive Officer\\nDirectors:\\nKetan Mehta, Non Executive Director \\nAtul Kanagat, Non Executive Director (till January 17,2023)\\nPriti Rao, Non Executive Director \\nS. Sandilya, Non Executive Director (till March 3, 2023)\\nRajeev Grover, Non Executive Director\\nSuresh Vaswani Non Executive Director (w.e.f December 11,2022)\\nEnterprise where KMP has control:\\nMastek Foundation\\nNote: For list of subsidiaries refer note 43.\\n* Non executive Director and Chairman w.e.f. April 01, 2023\\nBalances outstanding are as follows:-\\nName of Related Party \\n As at\\n March 31, 2023\\n As at\\n March 31, 2022\\nCompensation of key management personnel and directors of the Company*\\n88\\n327', metadata={'page': 290}),\n",
    " Document(page_content='of the Board such as Audit Committee, Nomination \\nand Remuneration Committee, Corporate Social \\nResponsibility Committee, Stakeholders’ Relationship \\nCommittee and Risk Management & Governance \\nCommittee are focused on financial reporting, audit \\nand internal controls, appointment and remuneration \\nof Directors, Key Managerial Personnel and Senior \\nManagerial Personnel, identifying, implementing \\nand monitoring of ESG and CSR activities, the Risk \\nmanagement, operational, legal and compliances \\nincluding sustainability framework.\\n2. \\nExecutive Management – by the Corporate Management \\nteam comprising of the Managing Director, Chief \\nExecutive Officer and Executive Leadership consisting \\nof the functional heads of the Company. They meet at', metadata={'page': 112}),\n",
    " Document(page_content='May 1, 2023.\\nExecutive Leadership Council Members also attend this \\nCommittee meeting as permanent invitees and Mr. Dinesh \\nKalani – Vice President – Group Company Secretary acts as \\nSecretary to the Committee.\\nCorporate Governance Report\\n127\\nShareholder  \\nInformation\\nStatutory  \\nReports\\nFinancial\\nStatements\\nCorporate  \\nOverview', metadata={'page': 128}),\n",
    " Document(page_content='The Company adheres to the provisions of the Act read with \\nthe Rules issued thereunder, Secretarial Standards and the \\nSEBI Listing Regulations with respect to convening and holding \\nthe Meetings of the Board of Directors, its Committees and \\nthe General Meetings of the Members of the Company.\\nInvitees and Proceedings\\nApart from Board Members and the Vice President – Group \\nCompany Secretary, the Board and Committee Meetings \\nare generally also attended by the Global Chief Executive \\nOfficer (GCEO), Global Chief Financial Officer (GCFO), Global \\nChief Legal and Compliance Officer (GC-LCO) and wherever \\nrequired by the Executive Leadership Council of the Group.\\nGCEO and GCFO apprises the Board, at each of its Meeting \\nabout the overall performance of the Company with', metadata={'page': 119}),\n",
    " Document(page_content='All Directors are familiarised at regular intervals on various \\ntopics specifically relating to: \\na) \\nnature of the industry in which the company operates;\\nb) \\nthe business model of the company;\\nc) \\nabout their roles, rights, and responsibilities in \\nthe company; \\nd) \\nany other relevant information, through various \\ninitiatives; and\\ne) \\nRegulatory Framework within which the Company and \\nits other subsidiaries operate.\\nEvery new Director of the Board needs to attend a Review \\n/ Orientation Program organised by the Company. Global \\nChief Executive Officer, Global Chief Financial Officer, and \\nSenior Managerial Personnel & Leadership Team, provides \\nan overview of the Strategy, Operations and Functions of \\nthe Company by making presentations. An opportunity is', metadata={'page': 117}),\n",
    " Document(page_content='Management Team\\nDelivering Excellence \\nwith Expertise \\nHiral Chandrana \\nChief Executive Officer,  \\nMastek Group \\nArun Agarwal\\nChief Financial Officer, \\nMastek Group\\nAbhishek Singh\\nPresident UKI & Europe\\nPrajakta Talvelkar\\nChief Marketing Officer\\nPrameela Kalive\\nChief Operating Officer\\n56\\nMastek Limited\\nAnnual Report 2022-23', metadata={'page': 57}),\n",
    " Document(page_content='Step-down Subsidiary\\nUnited States of America\\nEvosys Consultancy Services (Malaysia) Sdn Bhd \\nStep-down Subsidiary\\nMalaysia\\nEvolutionary Systems Qatar WLL \\nStep-down Subsidiary\\nQatar\\nMastek Systems Pty Ltd (Formerly known as Evolutionary \\nSystems Pty Ltd)\\nStep-down Subsidiary\\nAustralia\\nEvolutionary Systems BV \\nStep-down Subsidiary\\nNetherlands\\nEvolutionary Systems (Singapore) Pte. Ltd. \\nStep-down Subsidiary\\nSingapore\\nKey Management Personnel (KMP):\\nAshank Desai, Vice Chairman and Managing \\nDirector (till March 31,2023)*\\nArun Agarwal, Global Chief Financial Officer \\n(w.e.f May 31,2021)\\nDinesh Kalani, Company Secretary\\nGlobal Chief Executive Officer (CEO):\\nHiral Chandrana, Global Chief Executive Officer\\nDirectors:\\nKetan Mehta, Non Executive Director', metadata={'page': 216}),\n",
    " Document(page_content='Corporate Information\\nBoard of Directors\\nAshank Desai\\nChairman (Non - Executive) (w.e.f. April 1, 2023) \\nVice - Chairman & Managing Director \\n(Upto March 21, 2023)\\nChairman & Managing Director (Upto March 31, 2023)\\nKetan Mehta\\nNon - Executive and Non - Independent Director\\nRajeev Kumar Grover\\nNon - Executive and Independent Director\\nSuresh Vaswani\\nNon - Executive and Independent Director\\n(Appointed w.e.f. December 11, 2022)\\nUmang Nahata\\nNon-Executive and Non-Independent Director\\nNew Shareholders’ Nominee Director\\n(Appointed w.e.f. July 19, 2023)\\nAtul Kanagat\\nNon - Executive and Independent Director\\n(Resigned w.e.f. January 17, 2023)\\nS. Sandilya\\nNon-Executive and Independent Director\\n(Resigned w.e.f. March 3, 2023)\\nPriti Rao\\nNon - Executive and Independent Director', metadata={'page': 333}),\n",
    " Document(page_content='engagement through their services.\\nAshank Desai\\nChairman \\n8\\nDetails of the highest authority \\nresponsible for implementation and \\noversight of the Business Responsibility \\npolicy (ies)\\nThe following people of highest authority shall be responsible for the implementation \\nand oversight of the Business Responsibility policy:\\nSr. \\nNo.\\nName of person\\nDesignation\\nDIN / Employee Id \\n1\\nMr. Ashank Desai\\nChairman \\nDIN‑00017767\\n2\\nMr. Hiral Chandarana\\nGroup CEO\\nEmployee Id ‑ 83030\\n9\\nDoes the entity have a specified \\nCommittee of the Board/ Director \\nresponsible for decision making on \\nsustainability related issues? If yes, \\nprovide details\\nYes; Board, Audit Committee, Nomination and Remuneration Committee, CSR \\nCommittee and Risk Management & Governance Committee take decisions related to', metadata={'page': 152}),\n",
    " Document(page_content='Non‑Executive Director \\n(Independent)\\n01.04.2019\\nUnion Bank of India – Shareholder \\nDirector\\n2\\n1\\nMr. Rajeev Kumar \\nGrover (DIN:00058165)\\nNon‑Executive Director \\n(Independent)\\n28.01.2020\\n‑\\n1\\n1\\n#Mr. Suresh Vaswani\\n(DIN: 02176528)\\nNon‑Executive Director \\n(Independent)\\n11.12.2022\\nVodafone Idea Limited – \\nIndependent Director\\n3\\n0\\n*Mr. Ashank Desai relinquished the role of Managing Director with effect from March 31, 2023, and has been appointed as Chairman (Non ‑ \\nExecutive) with effect from April 1, 2023.\\n$Ms. Priti Rao, Non‑Executive & Independent Director submitted resignation from the Directorship of the Company to be effective from May 1, \\n2023.\\n#Mr. Suresh Vaswani was appointed as an Additional Director of the Company w.e.f. December 11, 2022, which was approved by the Members of the', metadata={'page': 116}),\n",
    " Document(page_content='commitments. By embedding ESG considerations into \\nour governance framework, we ensure sustainability and \\nresponsible business practices are at the forefront of our \\ndecision-making processes.\\nStrategic Supervision\\n• By the Board of Directors \\ncomprising the Executive, \\nNon-executive and \\nIndependent Directors \\n• Conducts overall \\nstrategic supervision and \\ncontrol by setting goals \\nand targets, policies, \\ngovernance standards, \\nreporting mechanism \\nand accountability and \\ndecision-making process to \\nbe followed \\nExecutive Management \\n• By the corporate \\nmanagement team \\ncomprising the Managing \\nDirector and Executive \\nCommittee team consisting \\nof the functional heads \\nof Mastek\\n• Management reviews \\nand monitors monthly \\nperformances addresses \\nchallenges faced by the', metadata={'page': 53}),\n",
    " Document(page_content='Management teams promptly for action. The Vice President \\n– Group Company Secretary facilitates convening of meetings \\nand attends Board, Committee and General Meetings of \\nthe Company and maintains the Minutes of these meetings. \\nMr. Dinesh Kalani is the Vice President ‑ Group Company \\nSecretary of the Company.\\nCommittees of the Board – as on March 31, 2023\\nThe Board Committees are set up by the Board and \\ngoverned by its terms of reference which exhibit the scope, \\ncomposition, functioning and reporting parameters. The \\nBoard has constituted various Committees to deal with \\nspecific business areas. These Committees play an important \\nrole in the governance process. All these Committees \\nhave been formed with proper Board authority defining', metadata={'page': 120}),\n",
    " Document(page_content='For Walker Chandiok & Co LLP\\nFor and on behalf of the Board of Directors of Mastek Limited\\nChartered Accountants\\nFirm Registration No.: 001076N/N500013\\nAshank Desai\\nRajeev Grover\\nChairman\\nDirector\\nAdi P. Sethna\\nDIN: 00017767\\nDIN: 00058165\\nPartner\\nMembership No.: 108840\\nArun Agarwal\\nDinesh Kalani\\nGlobal Chief Financial officer\\nVice President - Group Company Secretary\\nPlace: Mumbai\\nPlace: Mumbai\\nDate: April 19, 2023\\nDate: April 19, 2023\\n181\\nShareholder  \\nInformation\\nStatutory  \\nReports\\nFinancial\\nStatements\\nCorporate  \\nOverview', metadata={'page': 182}),\n",
    " Document(page_content='team comprising of the Managing Director, Chief \\nExecutive Officer and Executive Leadership consisting \\nof the functional heads of the Company. They meet at \\nregular intervals, wherein all important business issues \\nare discussed and decisions are taken. Management \\nCorporate Governance Report\\nCorporate Governance Report\\n111\\nShareholder  \\nInformation\\nStatutory  \\nReports\\nFinancial\\nStatements\\nCorporate  \\nOverview', metadata={'page': 112}),\n",
    " Document(page_content='development, corporate governance, finance & taxation, \\nsecurity-IT domain expertise and risk management, amongst \\nothers. The Company’s Non-Executive Directors (including \\nIndependent Directors) have been shaping and steering the \\nlong-term strategy and make invaluable contributions towards \\nMastek Group level strategy, monitoring or risk management \\nand Compliances.\\nConsidering the Company’s operations, its expanding \\nactivities and valuable contribution made by Non-Executive \\nDirectors (including Independent Directors) towards overall \\nengagement with the Company on various policies, strategic \\nand governance related issues, it is proposed to pay Annual \\nCommission to them. In view of the above, the Nomination \\nand Remuneration Committee and the Board of Directors', metadata={'page': 312}),\n",
    " Document(page_content='As on March 31, 2023, the Board composition and category of the Board of Directors were as follows:\\nSr. \\nNo.\\nName of the Directors\\nPromoter / Non–Promoters\\nCategory\\n1.\\n*Mr. Ashank Desai\\n Promoter\\nChairman & Managing Director\\n2.\\nMr. Ketan Mehta\\nNon‑Executive & Non‑Independent Director\\n3.\\n$Ms. Priti Rao\\n Non – Promoter\\nNon‑Executive & Independent Director\\n4.\\nMr. Rajeev Kumar Grover\\n5.\\n#Mr. Suresh Vaswani\\n*Mr. Ashank Desai relinquished the position of Managing Director with effect from March 31, 2023, and has been appointed as Chairman (Non ‑ \\nExecutive) with effect from April 1, 2023.\\n$Ms. Priti Rao, Non‑Executive & Independent Director submitted resignation from the Directorship of the Company to be effective from May 1, 2023.', metadata={'page': 114})]"
   ]
  },
  {
   "cell_type": "code",
   "execution_count": null,
   "metadata": {},
   "outputs": [],
   "source": []
  }
 ],
 "metadata": {
  "kernelspec": {
   "display_name": "Python 3",
   "language": "python",
   "name": "python3"
  },
  "language_info": {
   "codemirror_mode": {
    "name": "ipython",
    "version": 3
   },
   "file_extension": ".py",
   "mimetype": "text/x-python",
   "name": "python",
   "nbconvert_exporter": "python",
   "pygments_lexer": "ipython3",
   "version": "3.10.1"
  }
 },
 "nbformat": 4,
 "nbformat_minor": 2
}
