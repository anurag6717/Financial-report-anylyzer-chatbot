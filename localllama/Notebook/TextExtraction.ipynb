{
 "cells": [
  {
   "cell_type": "code",
   "execution_count": 1,
   "metadata": {},
   "outputs": [],
   "source": [
    "from PyPDF2 import PdfReader"
   ]
  },
  {
   "cell_type": "code",
   "execution_count": 2,
   "metadata": {},
   "outputs": [],
   "source": [
    "pdf_path = \"Reports/mastek22-23.pdf\""
   ]
  },
  {
   "cell_type": "code",
   "execution_count": 3,
   "metadata": {},
   "outputs": [],
   "source": [
    "reader = PdfReader(pdf_path)\n"
   ]
  },
  {
   "cell_type": "code",
   "execution_count": 4,
   "metadata": {},
   "outputs": [],
   "source": [
    "page = reader.pages[1]"
   ]
  },
  {
   "cell_type": "code",
   "execution_count": 5,
   "metadata": {},
   "outputs": [
    {
     "data": {
      "text/plain": [
       "['__annotations__',\n",
       " '__class__',\n",
       " '__class_getitem__',\n",
       " '__contains__',\n",
       " '__delattr__',\n",
       " '__delitem__',\n",
       " '__dict__',\n",
       " '__dir__',\n",
       " '__doc__',\n",
       " '__eq__',\n",
       " '__format__',\n",
       " '__ge__',\n",
       " '__getattribute__',\n",
       " '__getitem__',\n",
       " '__gt__',\n",
       " '__hash__',\n",
       " '__init__',\n",
       " '__init_subclass__',\n",
       " '__ior__',\n",
       " '__iter__',\n",
       " '__le__',\n",
       " '__len__',\n",
       " '__lt__',\n",
       " '__module__',\n",
       " '__ne__',\n",
       " '__new__',\n",
       " '__or__',\n",
       " '__reduce__',\n",
       " '__reduce_ex__',\n",
       " '__repr__',\n",
       " '__reversed__',\n",
       " '__ror__',\n",
       " '__setattr__',\n",
       " '__setitem__',\n",
       " '__sizeof__',\n",
       " '__str__',\n",
       " '__subclasshook__',\n",
       " '__weakref__',\n",
       " '_add_transformation_matrix',\n",
       " '_content_stream_rename',\n",
       " '_debug_for_extract',\n",
       " '_expand_mediabox',\n",
       " '_extract_text',\n",
       " '_extract_text_old',\n",
       " '_get_fonts',\n",
       " '_merge_page',\n",
       " '_merge_resources',\n",
       " '_push_pop_gs',\n",
       " 'addTransformation',\n",
       " 'add_transformation',\n",
       " 'annotations',\n",
       " 'artBox',\n",
       " 'artbox',\n",
       " 'bleedBox',\n",
       " 'bleedbox',\n",
       " 'clear',\n",
       " 'compressContentStreams',\n",
       " 'compress_content_streams',\n",
       " 'copy',\n",
       " 'createBlankPage',\n",
       " 'create_blank_page',\n",
       " 'cropBox',\n",
       " 'cropbox',\n",
       " 'extractText',\n",
       " 'extract_text',\n",
       " 'extract_xform_text',\n",
       " 'fromkeys',\n",
       " 'get',\n",
       " 'getContents',\n",
       " 'getObject',\n",
       " 'getXmpMetadata',\n",
       " 'get_contents',\n",
       " 'get_object',\n",
       " 'hash_func',\n",
       " 'hash_value',\n",
       " 'hash_value_data',\n",
       " 'images',\n",
       " 'indirect_ref',\n",
       " 'indirect_reference',\n",
       " 'items',\n",
       " 'keys',\n",
       " 'mediaBox',\n",
       " 'mediabox',\n",
       " 'mergePage',\n",
       " 'mergeRotatedPage',\n",
       " 'mergeRotatedScaledPage',\n",
       " 'mergeRotatedScaledTranslatedPage',\n",
       " 'mergeRotatedTranslatedPage',\n",
       " 'mergeScaledPage',\n",
       " 'mergeScaledTranslatedPage',\n",
       " 'mergeTransformedPage',\n",
       " 'mergeTranslatedPage',\n",
       " 'merge_page',\n",
       " 'pdf',\n",
       " 'pop',\n",
       " 'popitem',\n",
       " 'raw_get',\n",
       " 'readFromStream',\n",
       " 'read_from_stream',\n",
       " 'rotate',\n",
       " 'rotateClockwise',\n",
       " 'rotateCounterClockwise',\n",
       " 'rotate_clockwise',\n",
       " 'rotation',\n",
       " 'scale',\n",
       " 'scaleBy',\n",
       " 'scaleTo',\n",
       " 'scale_by',\n",
       " 'scale_to',\n",
       " 'setdefault',\n",
       " 'transfer_rotation_to_content',\n",
       " 'trimBox',\n",
       " 'trimbox',\n",
       " 'update',\n",
       " 'user_unit',\n",
       " 'values',\n",
       " 'writeToStream',\n",
       " 'write_to_stream',\n",
       " 'xmpMetadata',\n",
       " 'xmp_metadata']"
      ]
     },
     "execution_count": 5,
     "metadata": {},
     "output_type": "execute_result"
    }
   ],
   "source": [
    "dir(page)"
   ]
  },
  {
   "cell_type": "code",
   "execution_count": 22,
   "metadata": {},
   "outputs": [
    {
     "data": {
      "text/plain": [
       "<bound method PageObject.get_contents of {'/Type': '/Page', '/CropBox': [0, 0, 595.276, 841.89], '/MediaBox': [0, 0, 595.276, 841.89], '/Rotate': 0, '/Resources': {'/ExtGState': {'/GS0': IndirectObject(345, 0, 1833919922816), '/GS1': IndirectObject(430, 0, 1833919922816), '/GS2': IndirectObject(437, 0, 1833919922816), '/GS3': IndirectObject(445, 0, 1833919922816), '/GS4': IndirectObject(453, 0, 1833919922816), '/GS5': IndirectObject(463, 0, 1833919922816), '/GS6': IndirectObject(357, 0, 1833919922816), '/GS7': IndirectObject(472, 0, 1833919922816)}, '/Shading': {'/Sh0': IndirectObject(346, 0, 1833919922816)}, '/ColorSpace': {'/CS0': IndirectObject(347, 0, 1833919922816), '/CS1': IndirectObject(372, 0, 1833919922816)}, '/XObject': {'/X13': IndirectObject(433, 0, 1833919922816), '/X14': IndirectObject(441, 0, 1833919922816), '/X15': IndirectObject(449, 0, 1833919922816), '/X16': IndirectObject(457, 0, 1833919922816), '/X17': IndirectObject(460, 0, 1833919922816), '/X18': IndirectObject(462, 0, 1833919922816), '/X19': IndirectObject(466, 0, 1833919922816), '/X20': IndirectObject(469, 0, 1833919922816), '/X21': IndirectObject(471, 0, 1833919922816), '/X22': IndirectObject(475, 0, 1833919922816)}, '/Pattern': {'/P0': IndirectObject(435, 0, 1833919922816), '/P1': IndirectObject(436, 0, 1833919922816), '/P2': IndirectObject(443, 0, 1833919922816), '/P3': IndirectObject(444, 0, 1833919922816), '/P4': IndirectObject(451, 0, 1833919922816), '/P5': IndirectObject(452, 0, 1833919922816)}, '/Font': {'/TT0': IndirectObject(353, 0, 1833919922816), '/TT1': IndirectObject(358, 0, 1833919922816), '/C2_0': IndirectObject(477, 0, 1833919922816)}}, '/Contents': IndirectObject(429, 0, 1833919922816), '/Annots': [IndirectObject(484, 0, 1833919922816), IndirectObject(487, 0, 1833919922816), IndirectObject(489, 0, 1833919922816), IndirectObject(491, 0, 1833919922816), IndirectObject(493, 0, 1833919922816), IndirectObject(495, 0, 1833919922816), IndirectObject(497, 0, 1833919922816), IndirectObject(499, 0, 1833919922816), IndirectObject(501, 0, 1833919922816), IndirectObject(503, 0, 1833919922816), IndirectObject(505, 0, 1833919922816), IndirectObject(507, 0, 1833919922816), IndirectObject(509, 0, 1833919922816), IndirectObject(511, 0, 1833919922816), IndirectObject(513, 0, 1833919922816), IndirectObject(515, 0, 1833919922816), IndirectObject(517, 0, 1833919922816), IndirectObject(519, 0, 1833919922816), IndirectObject(521, 0, 1833919922816), IndirectObject(523, 0, 1833919922816), IndirectObject(525, 0, 1833919922816), IndirectObject(527, 0, 1833919922816), IndirectObject(529, 0, 1833919922816), IndirectObject(531, 0, 1833919922816), IndirectObject(533, 0, 1833919922816), IndirectObject(535, 0, 1833919922816), IndirectObject(537, 0, 1833919922816), IndirectObject(539, 0, 1833919922816), IndirectObject(541, 0, 1833919922816), IndirectObject(543, 0, 1833919922816), IndirectObject(545, 0, 1833919922816), IndirectObject(547, 0, 1833919922816), IndirectObject(549, 0, 1833919922816), IndirectObject(551, 0, 1833919922816), IndirectObject(553, 0, 1833919922816), IndirectObject(555, 0, 1833919922816), IndirectObject(557, 0, 1833919922816), IndirectObject(559, 0, 1833919922816), IndirectObject(561, 0, 1833919922816), IndirectObject(563, 0, 1833919922816), IndirectObject(565, 0, 1833919922816), IndirectObject(567, 0, 1833919922816), IndirectObject(569, 0, 1833919922816), IndirectObject(571, 0, 1833919922816), IndirectObject(573, 0, 1833919922816)], '/ArtBox': [0, 0, 595.276, 841.89], '/BleedBox': [0, 0, 595.276, 841.89], '/Group': IndirectObject(575, 0, 1833919922816), '/Tabs': '/W', '/TrimBox': [0, 0, 595.276, 841.89], '/Parent': IndirectObject(2, 0, 1833919922816)}>"
      ]
     },
     "execution_count": 22,
     "metadata": {},
     "output_type": "execute_result"
    }
   ],
   "source": [
    "page.get_contents"
   ]
  },
  {
   "cell_type": "code",
   "execution_count": null,
   "metadata": {},
   "outputs": [],
   "source": []
  }
 ],
 "metadata": {
  "kernelspec": {
   "display_name": "Python 3",
   "language": "python",
   "name": "python3"
  },
  "language_info": {
   "codemirror_mode": {
    "name": "ipython",
    "version": 3
   },
   "file_extension": ".py",
   "mimetype": "text/x-python",
   "name": "python",
   "nbconvert_exporter": "python",
   "pygments_lexer": "ipython3",
   "version": "3.10.1"
  }
 },
 "nbformat": 4,
 "nbformat_minor": 2
}
